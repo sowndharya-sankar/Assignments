{
 "cells": [
  {
   "cell_type": "code",
   "execution_count": 1,
   "id": "e4d22a81",
   "metadata": {},
   "outputs": [
    {
     "data": {
      "text/plain": [
       "[2, 3, 4]"
      ]
     },
     "execution_count": 1,
     "metadata": {},
     "output_type": "execute_result"
    }
   ],
   "source": [
    "#2.1 to print list of integers that represents length of words passed through list\n",
    "\n",
    "def length_of_words(lst):\n",
    "    words_length=[]\n",
    "    for item in lst:\n",
    "        words_length.append(len(item))\n",
    "    return words_length\n",
    "\n",
    "lst=['ab','cde','erty']\n",
    "length_of_words(lst)"
   ]
  },
  {
   "cell_type": "code",
   "execution_count": 9,
   "id": "7f6c1299",
   "metadata": {},
   "outputs": [
    {
     "name": "stdout",
     "output_type": "stream",
     "text": [
      "Enter a character:j\n"
     ]
    },
    {
     "data": {
      "text/plain": [
       "False"
      ]
     },
     "execution_count": 9,
     "metadata": {},
     "output_type": "execute_result"
    }
   ],
   "source": [
    "#2.2 to check whether passed character is a vowel\n",
    "\n",
    "def vowel_check(char):\n",
    "    if len(char)==1:\n",
    "        if char in ('a','e','i','o','u'):\n",
    "            return True\n",
    "        else:\n",
    "            return False\n",
    "    else:\n",
    "        return \"Please enter one character only\"\n",
    "    \n",
    "char=input(\"Enter a character:\")\n",
    "vowel_check(char)"
   ]
  },
  {
   "cell_type": "code",
   "execution_count": 11,
   "id": "528d68dd",
   "metadata": {},
   "outputs": [
    {
     "data": {
      "text/plain": [
       "['defghi', 'hjgadhgaf']"
      ]
     },
     "execution_count": 11,
     "metadata": {},
     "output_type": "execute_result"
    }
   ],
   "source": [
    "#1.2 function to take list of words and interger and return list of words having length greater than integer\n",
    "\n",
    "def filter_long_words(lst,n):\n",
    "    result=[]\n",
    "    for item in lst:\n",
    "        if len(item)>n:\n",
    "            result.append(item)\n",
    "    return result\n",
    "\n",
    "lst=['abc','defghi','jk','lmnop','hjgadhgaf','jjdhf']\n",
    "n=5\n",
    "filter_long_words(lst,n)    "
   ]
  },
  {
   "cell_type": "code",
   "execution_count": 17,
   "id": "c1530421",
   "metadata": {},
   "outputs": [
    {
     "name": "stdout",
     "output_type": "stream",
     "text": [
      "Enter side a:3\n",
      "Enter side b:6\n",
      "Enter side c:7\n"
     ]
    },
    {
     "data": {
      "text/plain": [
       "'Area of triangle: 8.944272'"
      ]
     },
     "execution_count": 17,
     "metadata": {},
     "output_type": "execute_result"
    }
   ],
   "source": [
    "# 1.1 area of triangle using class concepts\n",
    "\n",
    "class Sides: #Parent class\n",
    "    def __init__(self,a,b,c): #function to take user input\n",
    "        self.a=a\n",
    "        self.b=b\n",
    "        self.c=c\n",
    "        \n",
    "class Area(Sides): #Child class\n",
    "    def __init__(self,*args):\n",
    "        super(Area,self).__init__(*args)\n",
    "        \n",
    "    def calculate_area(self): #function to calculate area\n",
    "        s=(a+b+c)/2\n",
    "        area=(s*(s-a)*(s-b)*(s-c))**0.5\n",
    "        return \"Area of triangle: %f\"%area\n",
    "\n",
    "a=float(input(\"Enter side a:\"))\n",
    "b=float(input(\"Enter side b:\"))\n",
    "c=float(input(\"Enter side c:\"))\n",
    "area_obj=Area(a,b,c)\n",
    "area_obj.calculate_area()"
   ]
  },
  {
   "cell_type": "code",
   "execution_count": null,
   "id": "e985132b",
   "metadata": {},
   "outputs": [],
   "source": []
  }
 ],
 "metadata": {
  "kernelspec": {
   "display_name": "Python 3",
   "language": "python",
   "name": "python3"
  },
  "language_info": {
   "codemirror_mode": {
    "name": "ipython",
    "version": 3
   },
   "file_extension": ".py",
   "mimetype": "text/x-python",
   "name": "python",
   "nbconvert_exporter": "python",
   "pygments_lexer": "ipython3",
   "version": "3.8.8"
  }
 },
 "nbformat": 4,
 "nbformat_minor": 5
}

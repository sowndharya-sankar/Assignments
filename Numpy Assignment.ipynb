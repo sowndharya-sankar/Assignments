{
 "cells": [
  {
   "cell_type": "code",
   "execution_count": 1,
   "id": "17a0d79f",
   "metadata": {},
   "outputs": [],
   "source": [
    "import numpy as np"
   ]
  },
  {
   "cell_type": "code",
   "execution_count": 5,
   "id": "12604842",
   "metadata": {},
   "outputs": [
    {
     "data": {
      "text/plain": [
       "array([[  1,   1,   1,   1],\n",
       "       [ 27,   9,   3,   1],\n",
       "       [343,  49,   7,   1],\n",
       "       [216,  36,   6,   1]])"
      ]
     },
     "execution_count": 5,
     "metadata": {},
     "output_type": "execute_result"
    }
   ],
   "source": [
    "def vander_matrix(arr):\n",
    "    \"\"\"function to create a matrix whose columns are powers of input vector\"\"\"\n",
    "    mat=np.vander(arr)\n",
    "    return mat\n",
    "\n",
    "arr=np.array([1,3,7,6])\n",
    "vander_matrix(arr)"
   ]
  },
  {
   "cell_type": "code",
   "execution_count": 60,
   "id": "d3827cd5",
   "metadata": {},
   "outputs": [],
   "source": [
    "#function to find moving average in an array over a window\n",
    "def moving_average(arr, win):\n",
    "    \"\"\"function that returns moving average list and length of list given an array and window value\"\"\"\n",
    "    avg_list=[]\n",
    "    cumsum = np.cumsum(np.insert(arr, 0, 0)) \n",
    "    avg_list=(cumsum[win:] - cumsum[:-win]) /float(win)\n",
    "    \n",
    "    print(\"Moving average list: \",avg_list)\n",
    "    print(\"Length of list n-win+1=\", len(avg_list))"
   ]
  },
  {
   "cell_type": "code",
   "execution_count": 61,
   "id": "16c98f10",
   "metadata": {},
   "outputs": [
    {
     "name": "stdout",
     "output_type": "stream",
     "text": [
      "Moving average list:  [25. 35. 45. 55. 65. 75. 85.]\n",
      "Length of list n-win+1= 7\n"
     ]
    }
   ],
   "source": [
    "arr=[10,20,30,40,50,60,70,80,90,100]\n",
    "win=4\n",
    "moving_average(arr,win)"
   ]
  },
  {
   "cell_type": "code",
   "execution_count": 62,
   "id": "0e40ff6a",
   "metadata": {},
   "outputs": [
    {
     "name": "stdout",
     "output_type": "stream",
     "text": [
      "Moving average list:  [  5.           4.66666667   5.66666667   6.66666667   9.66666667\n",
      "  28.66666667  49.33333333  72.66666667  84.          93.33333333\n",
      " 116.33333333]\n",
      "Length of list n-win+1= 11\n"
     ]
    }
   ],
   "source": [
    "arr=[3, 5, 7, 2, 8, 10, 11, 65, 72, 81, 99, 100, 150]\n",
    "win=3\n",
    "moving_average(arr,win)"
   ]
  },
  {
   "cell_type": "code",
   "execution_count": null,
   "id": "c149ca0a",
   "metadata": {},
   "outputs": [],
   "source": []
  },
  {
   "cell_type": "code",
   "execution_count": null,
   "id": "449132d1",
   "metadata": {},
   "outputs": [],
   "source": []
  }
 ],
 "metadata": {
  "kernelspec": {
   "display_name": "Python 3",
   "language": "python",
   "name": "python3"
  },
  "language_info": {
   "codemirror_mode": {
    "name": "ipython",
    "version": 3
   },
   "file_extension": ".py",
   "mimetype": "text/x-python",
   "name": "python",
   "nbconvert_exporter": "python",
   "pygments_lexer": "ipython3",
   "version": "3.8.8"
  }
 },
 "nbformat": 4,
 "nbformat_minor": 5
}

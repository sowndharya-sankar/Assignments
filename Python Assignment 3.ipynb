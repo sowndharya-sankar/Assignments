{
 "cells": [
  {
   "cell_type": "code",
   "execution_count": 41,
   "id": "3eaeafcf",
   "metadata": {},
   "outputs": [
    {
     "name": "stdout",
     "output_type": "stream",
     "text": [
      "Enter a operation to be performed in list:add\n"
     ]
    },
    {
     "data": {
      "text/plain": [
       "'Sum is 15'"
      ]
     },
     "execution_count": 41,
     "metadata": {},
     "output_type": "execute_result"
    }
   ],
   "source": [
    "#reduce function identical to buit in function reduce()\n",
    "\n",
    "'''\n",
    "Replacing reduce functions \n",
    "reduce(lambda a, b: a+b, lst) & reduce(lambda a, b: a*b, lst)\n",
    "'''\n",
    "\n",
    "def myreduce(opr, lst1): #performing selected operation in input list\n",
    "    if opr=='add':\n",
    "        sum=0\n",
    "        for item in lst1:\n",
    "            sum+=item\n",
    "        return \"Sum is %s\"%sum\n",
    "    if opr=='mul':\n",
    "        mul=1\n",
    "        for item in lst1:\n",
    "            mul*=item\n",
    "        return \"Multiplication result: %s\"%mul\n",
    "\n",
    "lst=[1,2,3,4,5]\n",
    "opr=input('Enter a operation to be performed in list:')\n",
    "myreduce(opr, lst)"
   ]
  },
  {
   "cell_type": "code",
   "execution_count": 32,
   "id": "3891f223",
   "metadata": {},
   "outputs": [
    {
     "data": {
      "text/plain": [
       "[11, 3, 7, 45, 9]"
      ]
     },
     "execution_count": 32,
     "metadata": {},
     "output_type": "execute_result"
    }
   ],
   "source": [
    "#filter function identical to built in function filter()\n",
    "\n",
    "'''\n",
    "Replacing filter(lambda item: item % 2 != 0, lst)\n",
    "'''\n",
    "\n",
    "def myfilter(lst): #creating odd numbers list out of provided input list\n",
    "    result_lst=[]\n",
    "    for item in lst:\n",
    "        if (item%2)!=0:\n",
    "            result_lst.append(item)\n",
    "    return result_lst\n",
    "\n",
    "lst=[11,24,26,3,7,45,9,8]\n",
    "myfilter(lst)"
   ]
  },
  {
   "cell_type": "code",
   "execution_count": 53,
   "id": "8922ab6d",
   "metadata": {},
   "outputs": [
    {
     "name": "stdout",
     "output_type": "stream",
     "text": [
      "['x', 'y', 'z', 'xx', 'yy', 'zz', 'xxx', 'yyy', 'zzz', 'xxxx', 'yyyy', 'zzzz']\n"
     ]
    }
   ],
   "source": [
    "#list comprehension\n",
    "\n",
    "lst= [letter*i for i in range(1,5) for letter in 'xyz']\n",
    "print(lst)"
   ]
  },
  {
   "cell_type": "code",
   "execution_count": 55,
   "id": "16b0a85a",
   "metadata": {},
   "outputs": [
    {
     "name": "stdout",
     "output_type": "stream",
     "text": [
      "['x', 'xx', 'xxx', 'xxxx', 'y', 'yy', 'yyy', 'yyyy', 'z', 'zz', 'zzz', 'zzzz']\n"
     ]
    }
   ],
   "source": [
    "lst= [letter*i for letter in 'xyz' for i in range(1,5)]\n",
    "print(lst)"
   ]
  },
  {
   "cell_type": "code",
   "execution_count": 102,
   "id": "7136812a",
   "metadata": {},
   "outputs": [
    {
     "name": "stdout",
     "output_type": "stream",
     "text": [
      "[[2], [3], [4], [3], [4], [5], [4], [5], [6]] [[2, 3, 4, 5, 6], [3, 4, 5, 6, 7], [4, 5, 6, 7, 8], [5, 6, 7, 8, 9]]\n"
     ]
    }
   ],
   "source": [
    "lst1=[[num] for i in range (1,4) for num in range (1+i,4+i)]\n",
    "lst2= [[num for num in range (1+i,6+i) ] for i in range(1,5)]\n",
    "print(lst1,lst2)"
   ]
  },
  {
   "cell_type": "code",
   "execution_count": 64,
   "id": "e0200327",
   "metadata": {},
   "outputs": [
    {
     "name": "stdout",
     "output_type": "stream",
     "text": [
      "[(1, 1), (2, 1), (3, 1), (1, 2), (2, 2), (3, 2), (1, 3), (2, 3), (3, 3)]\n"
     ]
    }
   ],
   "source": [
    "lst = [(i,j) for j in range(1,4) for i in range(1,4)]\n",
    "print(lst)"
   ]
  },
  {
   "cell_type": "code",
   "execution_count": null,
   "id": "a3b78966",
   "metadata": {},
   "outputs": [],
   "source": []
  }
 ],
 "metadata": {
  "kernelspec": {
   "display_name": "Python 3",
   "language": "python",
   "name": "python3"
  },
  "language_info": {
   "codemirror_mode": {
    "name": "ipython",
    "version": 3
   },
   "file_extension": ".py",
   "mimetype": "text/x-python",
   "name": "python",
   "nbconvert_exporter": "python",
   "pygments_lexer": "ipython3",
   "version": "3.8.8"
  }
 },
 "nbformat": 4,
 "nbformat_minor": 5
}

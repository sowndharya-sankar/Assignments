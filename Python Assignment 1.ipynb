{
 "cells": [
  {
   "cell_type": "code",
   "execution_count": 1,
   "metadata": {},
   "outputs": [
    {
     "name": "stdout",
     "output_type": "stream",
     "text": [
      "Enter start value:2000\n",
      "Enter end value:3200\n",
      "2002,2009,2016,2023,2037,2044,2051,2058,2072,2079,2086,2093,2107,2114,2121,2128,2142,2149,2156,2163,2177,2184,2191,2198,2212,2219,2226,2233,2247,2254,2261,2268,2282,2289,2296,2303,2317,2324,2331,2338,2352,2359,2366,2373,2387,2394,2401,2408,2422,2429,2436,2443,2457,2464,2471,2478,2492,2499,2506,2513,2527,2534,2541,2548,2562,2569,2576,2583,2597,2604,2611,2618,2632,2639,2646,2653,2667,2674,2681,2688,2702,2709,2716,2723,2737,2744,2751,2758,2772,2779,2786,2793,2807,2814,2821,2828,2842,2849,2856,2863,2877,2884,2891,2898,2912,2919,2926,2933,2947,2954,2961,2968,2982,2989,2996,3003,3017,3024,3031,3038,3052,3059,3066,3073,3087,3094,3101,3108,3122,3129,3136,3143,3157,3164,3171,3178,3192,3199\n"
     ]
    }
   ],
   "source": [
    "#1.to find numbers divisible by 7 not multiple of 5 between 2000 and 3200\n",
    "start=int(input('Enter start value:'))\n",
    "end=int(input('Enter end value:'))\n",
    "emp=[]            #empty list to store eligible values\n",
    "for num in range(start, end+1):\n",
    "    if num%7==0:\n",
    "        if num%5!=0:\n",
    "            emp.append(num)\n",
    "else:\n",
    "    print(*emp,sep=',')    #to avoid ',' at last value"
   ]
  },
  {
   "cell_type": "code",
   "execution_count": 2,
   "metadata": {},
   "outputs": [
    {
     "name": "stdout",
     "output_type": "stream",
     "text": [
      "Enter first name:sowndharya\n",
      "Enter last name:sankar\n",
      "ayrahdnwos raknas\n"
     ]
    }
   ],
   "source": [
    "#2.printing first name and last name\n",
    "first_name=input('Enter first name:')\n",
    "last_name=input('Enter last name:')\n",
    "print(first_name[::-1],last_name[::-1],sep=' ')"
   ]
  },
  {
   "cell_type": "code",
   "execution_count": 3,
   "metadata": {},
   "outputs": [
    {
     "name": "stdout",
     "output_type": "stream",
     "text": [
      "Enter diameter:12\n",
      "Volume of sphere:  904.3199999999999\n"
     ]
    }
   ],
   "source": [
    "#3.to find volume of sphere with diameter 12 cm\n",
    "diameter=int(input('Enter diameter:'))\n",
    "radius= diameter/2         #calculation of radius\n",
    "pi=3.14\n",
    "volume= (4/3) * pi * (radius **3) \n",
    "print(\"Volume of sphere: \",volume)"
   ]
  },
  {
   "cell_type": "code",
   "execution_count": null,
   "metadata": {},
   "outputs": [],
   "source": []
  }
 ],
 "metadata": {
  "kernelspec": {
   "display_name": "Python 3",
   "language": "python",
   "name": "python3"
  },
  "language_info": {
   "codemirror_mode": {
    "name": "ipython",
    "version": 3
   },
   "file_extension": ".py",
   "mimetype": "text/x-python",
   "name": "python",
   "nbconvert_exporter": "python",
   "pygments_lexer": "ipython3",
   "version": "3.8.5"
  }
 },
 "nbformat": 4,
 "nbformat_minor": 4
}
